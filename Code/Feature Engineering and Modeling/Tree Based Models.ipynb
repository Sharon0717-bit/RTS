{
 "cells": [
  {
   "cell_type": "code",
   "execution_count": null,
   "metadata": {},
   "outputs": [],
   "source": [
    "## There are tree based models. The models are time comsuming, if you want direct result, you could load *.pkl files directly to start the models"
   ]
  },
  {
   "cell_type": "code",
   "execution_count": null,
   "metadata": {},
   "outputs": [],
   "source": [
    "import numpy as np\n",
    "import matplotlib.pyplot as plt\n",
    "import pandas as pd\n",
    "import seaborn as sns\n",
    "from datetime import datetime\n",
    "from sklearn import metrics\n",
    "from sklearn.tree import DecisionTreeClassifier\n",
    "from sklearn.ensemble import RandomForestClassifier\n",
    "from sklearn.ensemble import AdaBoostClassifier\n",
    "from sklearn.ensemble import GradientBoostingClassifier\n",
    "from xgboost import XGBClassifier\n",
    "from sklearn.model_selection import GridSearchCV\n",
    "from sklearn.model_selection import train_test_split\n",
    "from sklearn.model_selection import cross_val_score\n",
    "import joblib"
   ]
  },
  {
   "cell_type": "code",
   "execution_count": null,
   "metadata": {},
   "outputs": [],
   "source": [
    "accident = pd.read_csv(\"./accident_encoded.csv\", index_col = 0)"
   ]
  },
  {
   "cell_type": "code",
   "execution_count": null,
   "metadata": {},
   "outputs": [],
   "source": [
    "X = accident.iloc[:, 2:21]\n",
    "y = accident.iloc[:, 21]\n",
    "X_train, X_test, y_train, y_test = train_test_split(X, y, test_size=0.2)\n",
    "print(\"X_shape:\", X.shape, \" y_shape:\", y.shape)\n",
    "print(\"X_train_shape:\", X_train.shape, \" y_train_shape:\", y_train.shape)\n",
    "print(\"X_test_shape:\", X_test.shape,\"  y_test_shape:\", y_test.shape)"
   ]
  },
  {
   "cell_type": "markdown",
   "metadata": {},
   "source": [
    "## XGboost"
   ]
  },
  {
   "cell_type": "code",
   "execution_count": null,
   "metadata": {},
   "outputs": [],
   "source": [
    "xgb_params = {\n",
    "    #'n_estimators': [100,200,500,750,1000],\n",
    "    #'max_depth': np.arange(5,8,1),\n",
    "    #'min_child_weight': [1,3,5],\n",
    "    #'gamma':[i/10.0 for i in range(0,5)],\n",
    "    #'subsample':[i/10.0 for i in range(6,10)],\n",
    "    #'colsample_bytree':[i/10.0 for i in range(6,10)],\n",
    "    #'reg_alpha':[0, 0.001, 0.005, 0.01, 0.05, 0.1, 1],\n",
    "    #'learning_rate': [0.01, 0.02, 0.05, 0.1]\n",
    "}"
   ]
  },
  {
   "cell_type": "code",
   "execution_count": null,
   "metadata": {},
   "outputs": [],
   "source": [
    "xgb = XGBClassifier()\n",
    "xgb_grid = GridSearchCV(xgb, param_grid=xgb_params, cv = 5)\n",
    "xgb_grid.fit(X, y)\n",
    "\n",
    "print(\"Best score: {}\".format(xgb_grid.best_score_))\n",
    "print(\"Best params: {}\".format(xgb_grid.best_estimator_))"
   ]
  },
  {
   "cell_type": "code",
   "execution_count": null,
   "metadata": {},
   "outputs": [],
   "source": [
    "xgb_importance =  xgb_grid.best_estimator_.feature_importances_\n",
    "xgb_grid.best_estimator_.feature_importances_"
   ]
  },
  {
   "cell_type": "code",
   "execution_count": null,
   "metadata": {},
   "outputs": [],
   "source": [
    "sns.set_style('darkgrid')\n",
    "#plt.figure(figsize=(15, 10))\n",
    "plt.title('Feature Importance of GBDT', fontsize = 20)\n",
    "sns.barplot(x=features, y=xgb_importance)\n",
    "plt.ylabel('Features')\n",
    "plt.ylabel('Feature Importance')\n",
    "plt.show()"
   ]
  },
  {
   "cell_type": "markdown",
   "metadata": {},
   "source": [
    "## Decision Tree"
   ]
  },
  {
   "cell_type": "code",
   "execution_count": null,
   "metadata": {},
   "outputs": [],
   "source": [
    "dt = DecisionTreeClassifier(max_depth=8)\n",
    "dt.fit(X, y)\n",
    "scores = cross_val_score(dt, X, y, cv=5)\n",
    "print(\"mean: {:.3f} (std: {:.3f})\".format(scores.mean(), scores.std()))"
   ]
  },
  {
   "cell_type": "code",
   "execution_count": null,
   "metadata": {},
   "outputs": [],
   "source": [
    "dt_importance = dt.feature_importances_\n",
    "dt.feature_importances_"
   ]
  },
  {
   "cell_type": "code",
   "execution_count": null,
   "metadata": {},
   "outputs": [],
   "source": [
    "ns.set_style('darkgrid')\n",
    "#plt.figure(figsize=(15, 10))\n",
    "plt.title('Feature Importance of Decision Tree', fontsize = 20)\n",
    "sns.barplot(x=features, y=dt_importance)\n",
    "plt.ylabel('Features')\n",
    "plt.ylabel('Feature Importance')\n",
    "plt.show()"
   ]
  },
  {
   "cell_type": "markdown",
   "metadata": {},
   "source": [
    "## Random Forest"
   ]
  },
  {
   "cell_type": "code",
   "execution_count": null,
   "metadata": {},
   "outputs": [],
   "source": [
    "# instantiate Random Forest model\n",
    "forrest = RandomForestClassifier(max_depth=5, min_samples_leaf=3, min_samples_split=6,n_estimators=50)\n",
    "\n",
    "# build and fit model \n",
    "forrest.fit(X, y)\n",
    "scores = cross_val_score(dt, X, y, cv=5)\n",
    "print(\"mean: {:.3f} (std: {:.3f})\".format(scores.mean(), scores.std()))\n"
   ]
  },
  {
   "cell_type": "code",
   "execution_count": null,
   "metadata": {},
   "outputs": [],
   "source": [
    "forest_importance = forest.feature_importances_\n",
    "forest.feature_importances_"
   ]
  },
  {
   "cell_type": "code",
   "execution_count": null,
   "metadata": {},
   "outputs": [],
   "source": [
    "sns.set_style('darkgrid')\n",
    "#plt.figure(figsize=(15, 10))\n",
    "plt.title('Feature Importance of Random Forest', fontsize = 20)\n",
    "sns.barplot(x=features, y=forest_importance)\n",
    "plt.ylabel('Features')\n",
    "plt.ylabel('Feature Importance')\n",
    "plt.show()"
   ]
  },
  {
   "cell_type": "markdown",
   "metadata": {},
   "source": [
    "## Adaboost"
   ]
  },
  {
   "cell_type": "code",
   "execution_count": null,
   "metadata": {},
   "outputs": [],
   "source": [
    "# instantiate Random Forest model\n",
    "adaboost = AdaBoostClassifier(base_estimator= dt)\n",
    "\n",
    "# build and fit model \n",
    "adaboost.fit(X, y)\n",
    "scores = cross_val_score(dt, X, y, cv=5)\n",
    "print(\"mean: {:.3f} (std: {:.3f})\".format(scores.mean(), scores.std()))"
   ]
  },
  {
   "cell_type": "code",
   "execution_count": null,
   "metadata": {},
   "outputs": [],
   "source": [
    "adaboost.feature_importances_"
   ]
  },
  {
   "cell_type": "markdown",
   "metadata": {},
   "source": [
    "## GBDT"
   ]
  },
  {
   "cell_type": "code",
   "execution_count": null,
   "metadata": {},
   "outputs": [],
   "source": [
    "gbdt = GradientBoostingClassifier(learning_rate=0.5, max_depth=6, n_estimators=200)\n",
    "\n",
    "# build and fit model \n",
    "gbdt.fit(X, y)\n",
    "scores = cross_val_score(dt, X, y, cv=5)\n",
    "print(\"mean: {:.3f} (std: {:.3f})\".format(scores.mean(), scores.std()))"
   ]
  },
  {
   "cell_type": "code",
   "execution_count": null,
   "metadata": {},
   "outputs": [],
   "source": [
    "gbdt_importance = gbdt.feature_importances_\n",
    "gbdt.feature_importances_"
   ]
  },
  {
   "cell_type": "code",
   "execution_count": null,
   "metadata": {},
   "outputs": [],
   "source": [
    "sns.set_style('darkgrid')\n",
    "#plt.figure(figsize=(15, 10))\n",
    "plt.title('Feature Importance of GBDT', fontsize = 20)\n",
    "sns.barplot(x=features, y=gbdt_importance)\n",
    "plt.ylabel('Features')\n",
    "plt.ylabel('Feature Importance')\n",
    "plt.show()"
   ]
  },
  {
   "cell_type": "code",
   "execution_count": null,
   "metadata": {},
   "outputs": [],
   "source": []
  },
  {
   "cell_type": "code",
   "execution_count": null,
   "metadata": {},
   "outputs": [],
   "source": []
  },
  {
   "cell_type": "code",
   "execution_count": null,
   "metadata": {},
   "outputs": [],
   "source": []
  }
 ],
 "metadata": {
  "kernelspec": {
   "display_name": "Python 3",
   "language": "python",
   "name": "python3"
  },
  "language_info": {
   "codemirror_mode": {
    "name": "ipython",
    "version": 3
   },
   "file_extension": ".py",
   "mimetype": "text/x-python",
   "name": "python",
   "nbconvert_exporter": "python",
   "pygments_lexer": "ipython3",
   "version": "3.7.9"
  }
 },
 "nbformat": 4,
 "nbformat_minor": 4
}
